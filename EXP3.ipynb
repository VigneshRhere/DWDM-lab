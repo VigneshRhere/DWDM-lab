{
 "cells": [
  {
   "cell_type": "code",
   "execution_count": 35,
   "id": "20fb01ef-a5ec-4c86-bb59-9b5031540e9c",
   "metadata": {},
   "outputs": [
    {
     "name": "stdout",
     "output_type": "stream",
     "text": [
      "Frequent Itemsets:\n",
      "{'butter'}: 4\n",
      "{'bread'}: 5\n",
      "{'milk'}: 4\n",
      "{'butter', 'milk'}: 3\n",
      "{'butter', 'bread'}: 3\n",
      "{'milk', 'bread'}: 3\n"
     ]
    }
   ],
   "source": [
    "def generate_candidates(freq_iset,k):\n",
    "    candidates=set()\n",
    "    for i in range(len(freq_iset)):\n",
    "        for j in range(i+1,len(freq_iset)):\n",
    "            l1=list(freq_iset[i])[:k-2]\n",
    "            l2=list(freq_iset[j])[:k-2]\n",
    "\n",
    "            if l1==l2:\n",
    "                candidate = frozenset(freq_iset[i]) | frozenset(freq_iset[j])\n",
    "                candidates.add(candidate)\n",
    "    return candidates\n",
    "def scan_dataset(dataset,candidates):\n",
    "    itemset_counts={itemset:0 for itemset in candidates}\n",
    "    for transaction in dataset:\n",
    "        for candidate in candidates:\n",
    "            if candidate.issubset(transaction):\n",
    "                itemset_counts[candidate]+=1\n",
    "    return itemset_counts\n",
    "def filter_itemsets(itemset_counts,min_support,total_transactions):\n",
    "    return {itemset:count for itemset,count in itemset_counts.items() if count/total_transactions >=min_support}\n",
    "def apriori(dataset,min_support):\n",
    "    freq_iset={}\n",
    "    one_iset={frozenset([item]) for transaction in dataset for item in transaction}\n",
    "    itemset_counts=scan_dataset(dataset,one_iset)\n",
    "    total_trans=len(dataset)\n",
    "\n",
    "    freq_iset.update(filter_itemsets(itemset_counts,min_support,total_trans))\n",
    "\n",
    "    freq_iset_list=[itemset for itemset in freq_iset.keys()]\n",
    "\n",
    "    k=2\n",
    "    while freq_iset_list:\n",
    "        candidates=generate_candidates(freq_iset_list,k)\n",
    "\n",
    "        if not candidates:\n",
    "            break\n",
    "        itemset_counts=scan_dataset(dataset,candidates)\n",
    "        freq_iset.update(filter_itemsets(itemset_counts,min_support,total_trans))\n",
    "        freq_iset_list=[itemset for itemset in freq_iset.keys() if len(itemset)==k]\n",
    "        k+=1\n",
    "    return freq_iset\n",
    "def main():\n",
    "    # Sample dataset: each transaction is represented as a set of items\n",
    "    dataset =[\n",
    "        {'milk', 'bread', 'butter'},\n",
    "        {'milk', 'bread'},\n",
    "        {'milk', 'butter'},\n",
    "        {'bread', 'butter'},\n",
    "        {'milk', 'bread', 'butter', 'eggs'},\n",
    "        {'bread', 'eggs'}\n",
    "    ]\n",
    "    \n",
    "    # Set the minimum support threshold\n",
    "    min_support = 0.5\n",
    "    \n",
    "    # Run the Apriori algorithm to find frequent itemsets\n",
    "    freq_itemsets = apriori(dataset, min_support)\n",
    "    \n",
    "    # Print the frequent itemsets and their counts\n",
    "    print(\"Frequent Itemsets:\")\n",
    "    for itemset, count in freq_itemsets.items():\n",
    "        print(f\"{set(itemset)}: {count}\")\n",
    "\n",
    "if __name__ == \"__main__\":\n",
    "    main()\n",
    "\n",
    "    "
   ]
  },
  {
   "cell_type": "code",
   "execution_count": null,
   "id": "32d7fa0a-f958-4ce5-94f5-3ac896f7ea48",
   "metadata": {},
   "outputs": [],
   "source": []
  },
  {
   "cell_type": "code",
   "execution_count": null,
   "id": "931f8039-49b6-43aa-9644-28e11fcb1a75",
   "metadata": {},
   "outputs": [],
   "source": []
  },
  {
   "cell_type": "code",
   "execution_count": null,
   "id": "4f083bd2-eb5f-4b94-b05e-ce98630d0efd",
   "metadata": {},
   "outputs": [],
   "source": []
  },
  {
   "cell_type": "code",
   "execution_count": null,
   "id": "9e1fe30f-420f-4996-ba4c-e7e55b3f9c73",
   "metadata": {},
   "outputs": [],
   "source": []
  },
  {
   "cell_type": "code",
   "execution_count": null,
   "id": "69e2b954-2a5c-42ba-a5d1-534761dcd902",
   "metadata": {},
   "outputs": [],
   "source": []
  }
 ],
 "metadata": {
  "kernelspec": {
   "display_name": "Python 3 (ipykernel)",
   "language": "python",
   "name": "python3"
  },
  "language_info": {
   "codemirror_mode": {
    "name": "ipython",
    "version": 3
   },
   "file_extension": ".py",
   "mimetype": "text/x-python",
   "name": "python",
   "nbconvert_exporter": "python",
   "pygments_lexer": "ipython3",
   "version": "3.12.0"
  }
 },
 "nbformat": 4,
 "nbformat_minor": 5
}
