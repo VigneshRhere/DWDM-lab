{
 "cells": [
  {
   "cell_type": "code",
   "execution_count": 3,
   "id": "a3598b14-834d-4c5a-81f8-230ba194d74d",
   "metadata": {},
   "outputs": [
    {
     "name": "stdout",
     "output_type": "stream",
     "text": [
      "Sample Dataset:\n",
      "     outlook temperature humidity  windy playtennis\n",
      "0      sunny         hot     high  false         no\n",
      "1      sunny         hot     high   true         no\n",
      "2   overcast         hot   normal  false        yes\n",
      "3       rain        mild   normal  false        yes\n",
      "4       rain        mild     high  false         no\n",
      "5       rain        cool   normal   true        yes\n",
      "6   overcast        cool   normal   true        yes\n",
      "7      sunny        mild     high  false         no\n",
      "8      sunny        cool   normal   true        yes\n",
      "9       rain        mild   normal   true        yes\n",
      "10     sunny        mild   normal   true        yes\n",
      "11  overcast        mild     high  false        yes\n",
      "12  overcast        cool   normal   true         no\n",
      "\n",
      "\n",
      "The classification result for X is: yes\n"
     ]
    }
   ],
   "source": [
    "import pandas as pd\n",
    "\n",
    "data = {\n",
    "    'outlook': ['sunny', 'sunny', 'overcast', 'rain', 'rain', 'rain', 'overcast', 'sunny', 'sunny', 'rain', 'sunny', 'overcast', 'overcast'],\n",
    "    'temperature': ['hot', 'hot', 'hot', 'mild', 'mild', 'cool', 'cool', 'mild', 'cool', 'mild', 'mild', 'mild', 'cool'],\n",
    "    'humidity': ['high', 'high', 'normal', 'normal', 'high', 'normal', 'normal', 'high', 'normal', 'normal', 'normal', 'high', 'normal'],\n",
    "    'windy': ['false', 'true', 'false', 'false', 'false', 'true', 'true', 'false', 'true', 'true', 'true', 'false', 'true'],\n",
    "    'playtennis': ['no', 'no', 'yes', 'yes', 'no', 'yes', 'yes', 'no', 'yes', 'yes', 'yes', 'yes', 'no']\n",
    "}\n",
    "\n",
    "df = pd.DataFrame(data)\n",
    "\n",
    "print(\"Sample Dataset:\")\n",
    "print(df)\n",
    "\n",
    "X = {\n",
    "    'outlook': 'sunny',\n",
    "    'temperature': 'mild',\n",
    "    'humidity': 'normal',\n",
    "    'windy': 'strong'\n",
    "}\n",
    "\n",
    "X['windy'] = 'true' if X['windy'] == 'strong' else 'false'\n",
    "\n",
    "prior_probs = df['playtennis'].value_counts(normalize=True)\n",
    "\n",
    "likelihoods = {}\n",
    "\n",
    "for feature in ['outlook', 'temperature', 'humidity', 'windy']:\n",
    "    feature_values = df[feature].unique()\n",
    "    likelihoods[feature] = {}\n",
    "    for value in feature_values:\n",
    "        for playtennis in prior_probs.index:\n",
    "            likelihood = (df[df['playtennis'] == playtennis][feature] == value).sum() / (df['playtennis'] == playtennis).sum()\n",
    "            likelihoods[feature][(value, playtennis)] = likelihood\n",
    "\n",
    "def classify(X, prior_probs, likelihoods):\n",
    "    post_probs = {}\n",
    "    for playtennis in prior_probs.index:\n",
    "        prob = prior_probs[playtennis]\n",
    "        for feature in X:\n",
    "            prob *= likelihoods[feature].get((X[feature], playtennis), 1e-6)  \n",
    "        post_probs[playtennis] = prob\n",
    "    return max(post_probs, key=post_probs.get)\n",
    "\n",
    "result = classify(X, prior_probs, likelihoods)\n",
    "print(f\"\\n\\nThe classification result for X is: {result}\")\n"
   ]
  },
  {
   "cell_type": "code",
   "execution_count": null,
   "id": "b99be199-8fd6-49e7-8be8-aa39210e1e05",
   "metadata": {},
   "outputs": [],
   "source": []
  }
 ],
 "metadata": {
  "kernelspec": {
   "display_name": "Python 3 (ipykernel)",
   "language": "python",
   "name": "python3"
  },
  "language_info": {
   "codemirror_mode": {
    "name": "ipython",
    "version": 3
   },
   "file_extension": ".py",
   "mimetype": "text/x-python",
   "name": "python",
   "nbconvert_exporter": "python",
   "pygments_lexer": "ipython3",
   "version": "3.12.0"
  }
 },
 "nbformat": 4,
 "nbformat_minor": 5
}
